{
 "cells": [
  {
   "cell_type": "markdown",
   "metadata": {},
   "source": [
    "# Joining with Pandas"
   ]
  },
  {
   "cell_type": "code",
   "execution_count": 1,
   "metadata": {},
   "outputs": [],
   "source": [
    "import pandas as pd\n",
    "import matplotlib.pyplot as plt"
   ]
  },
  {
   "cell_type": "markdown",
   "metadata": {},
   "source": [
    "### I. Inner Join"
   ]
  },
  {
   "cell_type": "markdown",
   "metadata": {},
   "source": [
    "#### Dataset"
   ]
  },
  {
   "cell_type": "code",
   "execution_count": 2,
   "metadata": {},
   "outputs": [],
   "source": [
    "taxi_owners = pd.read_pickle('taxi_owners.p')\n",
    "taxi_veh = pd.read_pickle('taxi_vehicles.p')"
   ]
  },
  {
   "cell_type": "markdown",
   "metadata": {},
   "source": [
    "#### Join\n",
    "\n",
    "Merge the `taxi_owners` and `taxi_veh` tables setting a suffix"
   ]
  },
  {
   "cell_type": "code",
   "execution_count": 3,
   "metadata": {},
   "outputs": [
    {
     "data": {
      "text/html": [
       "<div>\n",
       "<style scoped>\n",
       "    .dataframe tbody tr th:only-of-type {\n",
       "        vertical-align: middle;\n",
       "    }\n",
       "\n",
       "    .dataframe tbody tr th {\n",
       "        vertical-align: top;\n",
       "    }\n",
       "\n",
       "    .dataframe thead th {\n",
       "        text-align: right;\n",
       "    }\n",
       "</style>\n",
       "<table border=\"1\" class=\"dataframe\">\n",
       "  <thead>\n",
       "    <tr style=\"text-align: right;\">\n",
       "      <th></th>\n",
       "      <th>rid</th>\n",
       "      <th>vid</th>\n",
       "      <th>owner_x</th>\n",
       "      <th>address</th>\n",
       "      <th>zip</th>\n",
       "      <th>make</th>\n",
       "      <th>model</th>\n",
       "      <th>year</th>\n",
       "      <th>fuel_type</th>\n",
       "      <th>owner_y</th>\n",
       "    </tr>\n",
       "  </thead>\n",
       "  <tbody>\n",
       "    <tr>\n",
       "      <th>0</th>\n",
       "      <td>T6285</td>\n",
       "      <td>6285</td>\n",
       "      <td>AGEAN TAXI LLC</td>\n",
       "      <td>4536 N. ELSTON AVE.</td>\n",
       "      <td>60630</td>\n",
       "      <td>NISSAN</td>\n",
       "      <td>ALTIMA</td>\n",
       "      <td>2011</td>\n",
       "      <td>HYBRID</td>\n",
       "      <td>AGEAN TAXI LLC</td>\n",
       "    </tr>\n",
       "    <tr>\n",
       "      <th>1</th>\n",
       "      <td>T4862</td>\n",
       "      <td>4862</td>\n",
       "      <td>MANGIB CORP.</td>\n",
       "      <td>5717 N. WASHTENAW AVE.</td>\n",
       "      <td>60659</td>\n",
       "      <td>HONDA</td>\n",
       "      <td>CRV</td>\n",
       "      <td>2014</td>\n",
       "      <td>GASOLINE</td>\n",
       "      <td>MANGIB CORP.</td>\n",
       "    </tr>\n",
       "    <tr>\n",
       "      <th>2</th>\n",
       "      <td>T1495</td>\n",
       "      <td>1495</td>\n",
       "      <td>FUNRIDE, INC.</td>\n",
       "      <td>3351 W. ADDISON ST.</td>\n",
       "      <td>60618</td>\n",
       "      <td>TOYOTA</td>\n",
       "      <td>SIENNA</td>\n",
       "      <td>2015</td>\n",
       "      <td>GASOLINE</td>\n",
       "      <td>FUNRIDE, INC.</td>\n",
       "    </tr>\n",
       "    <tr>\n",
       "      <th>3</th>\n",
       "      <td>T4231</td>\n",
       "      <td>4231</td>\n",
       "      <td>ALQUSH CORP.</td>\n",
       "      <td>6611 N. CAMPBELL AVE.</td>\n",
       "      <td>60645</td>\n",
       "      <td>TOYOTA</td>\n",
       "      <td>CAMRY</td>\n",
       "      <td>2014</td>\n",
       "      <td>HYBRID</td>\n",
       "      <td>ALQUSH CORP.</td>\n",
       "    </tr>\n",
       "    <tr>\n",
       "      <th>4</th>\n",
       "      <td>T5971</td>\n",
       "      <td>5971</td>\n",
       "      <td>EUNIFFORD INC.</td>\n",
       "      <td>3351 W. ADDISON ST.</td>\n",
       "      <td>60618</td>\n",
       "      <td>TOYOTA</td>\n",
       "      <td>SIENNA</td>\n",
       "      <td>2015</td>\n",
       "      <td>GASOLINE</td>\n",
       "      <td>EUNIFFORD INC.</td>\n",
       "    </tr>\n",
       "  </tbody>\n",
       "</table>\n",
       "</div>"
      ],
      "text/plain": [
       "     rid   vid         owner_x                 address    zip    make   model  \\\n",
       "0  T6285  6285  AGEAN TAXI LLC     4536 N. ELSTON AVE.  60630  NISSAN  ALTIMA   \n",
       "1  T4862  4862    MANGIB CORP.  5717 N. WASHTENAW AVE.  60659   HONDA     CRV   \n",
       "2  T1495  1495   FUNRIDE, INC.     3351 W. ADDISON ST.  60618  TOYOTA  SIENNA   \n",
       "3  T4231  4231    ALQUSH CORP.   6611 N. CAMPBELL AVE.  60645  TOYOTA   CAMRY   \n",
       "4  T5971  5971  EUNIFFORD INC.     3351 W. ADDISON ST.  60618  TOYOTA  SIENNA   \n",
       "\n",
       "   year fuel_type         owner_y  \n",
       "0  2011    HYBRID  AGEAN TAXI LLC  \n",
       "1  2014  GASOLINE    MANGIB CORP.  \n",
       "2  2015  GASOLINE   FUNRIDE, INC.  \n",
       "3  2014    HYBRID    ALQUSH CORP.  \n",
       "4  2015  GASOLINE  EUNIFFORD INC.  "
      ]
     },
     "execution_count": 3,
     "metadata": {},
     "output_type": "execute_result"
    }
   ],
   "source": [
    "taxi_own_veh = taxi_owners.merge(taxi_veh, on = 'vid')\n",
    "taxi_own_veh.head()"
   ]
  },
  {
   "cell_type": "markdown",
   "metadata": {},
   "source": [
    "Merge the `taxi_owners` and `taxi_veh` tables setting a (different) suffix"
   ]
  },
  {
   "cell_type": "code",
   "execution_count": 4,
   "metadata": {},
   "outputs": [
    {
     "data": {
      "text/html": [
       "<div>\n",
       "<style scoped>\n",
       "    .dataframe tbody tr th:only-of-type {\n",
       "        vertical-align: middle;\n",
       "    }\n",
       "\n",
       "    .dataframe tbody tr th {\n",
       "        vertical-align: top;\n",
       "    }\n",
       "\n",
       "    .dataframe thead th {\n",
       "        text-align: right;\n",
       "    }\n",
       "</style>\n",
       "<table border=\"1\" class=\"dataframe\">\n",
       "  <thead>\n",
       "    <tr style=\"text-align: right;\">\n",
       "      <th></th>\n",
       "      <th>rid</th>\n",
       "      <th>vid</th>\n",
       "      <th>owner_own</th>\n",
       "      <th>address</th>\n",
       "      <th>zip</th>\n",
       "      <th>make</th>\n",
       "      <th>model</th>\n",
       "      <th>year</th>\n",
       "      <th>fuel_type</th>\n",
       "      <th>owner_veh</th>\n",
       "    </tr>\n",
       "  </thead>\n",
       "  <tbody>\n",
       "    <tr>\n",
       "      <th>0</th>\n",
       "      <td>T6285</td>\n",
       "      <td>6285</td>\n",
       "      <td>AGEAN TAXI LLC</td>\n",
       "      <td>4536 N. ELSTON AVE.</td>\n",
       "      <td>60630</td>\n",
       "      <td>NISSAN</td>\n",
       "      <td>ALTIMA</td>\n",
       "      <td>2011</td>\n",
       "      <td>HYBRID</td>\n",
       "      <td>AGEAN TAXI LLC</td>\n",
       "    </tr>\n",
       "    <tr>\n",
       "      <th>1</th>\n",
       "      <td>T4862</td>\n",
       "      <td>4862</td>\n",
       "      <td>MANGIB CORP.</td>\n",
       "      <td>5717 N. WASHTENAW AVE.</td>\n",
       "      <td>60659</td>\n",
       "      <td>HONDA</td>\n",
       "      <td>CRV</td>\n",
       "      <td>2014</td>\n",
       "      <td>GASOLINE</td>\n",
       "      <td>MANGIB CORP.</td>\n",
       "    </tr>\n",
       "    <tr>\n",
       "      <th>2</th>\n",
       "      <td>T1495</td>\n",
       "      <td>1495</td>\n",
       "      <td>FUNRIDE, INC.</td>\n",
       "      <td>3351 W. ADDISON ST.</td>\n",
       "      <td>60618</td>\n",
       "      <td>TOYOTA</td>\n",
       "      <td>SIENNA</td>\n",
       "      <td>2015</td>\n",
       "      <td>GASOLINE</td>\n",
       "      <td>FUNRIDE, INC.</td>\n",
       "    </tr>\n",
       "    <tr>\n",
       "      <th>3</th>\n",
       "      <td>T4231</td>\n",
       "      <td>4231</td>\n",
       "      <td>ALQUSH CORP.</td>\n",
       "      <td>6611 N. CAMPBELL AVE.</td>\n",
       "      <td>60645</td>\n",
       "      <td>TOYOTA</td>\n",
       "      <td>CAMRY</td>\n",
       "      <td>2014</td>\n",
       "      <td>HYBRID</td>\n",
       "      <td>ALQUSH CORP.</td>\n",
       "    </tr>\n",
       "    <tr>\n",
       "      <th>4</th>\n",
       "      <td>T5971</td>\n",
       "      <td>5971</td>\n",
       "      <td>EUNIFFORD INC.</td>\n",
       "      <td>3351 W. ADDISON ST.</td>\n",
       "      <td>60618</td>\n",
       "      <td>TOYOTA</td>\n",
       "      <td>SIENNA</td>\n",
       "      <td>2015</td>\n",
       "      <td>GASOLINE</td>\n",
       "      <td>EUNIFFORD INC.</td>\n",
       "    </tr>\n",
       "  </tbody>\n",
       "</table>\n",
       "</div>"
      ],
      "text/plain": [
       "     rid   vid       owner_own                 address    zip    make   model  \\\n",
       "0  T6285  6285  AGEAN TAXI LLC     4536 N. ELSTON AVE.  60630  NISSAN  ALTIMA   \n",
       "1  T4862  4862    MANGIB CORP.  5717 N. WASHTENAW AVE.  60659   HONDA     CRV   \n",
       "2  T1495  1495   FUNRIDE, INC.     3351 W. ADDISON ST.  60618  TOYOTA  SIENNA   \n",
       "3  T4231  4231    ALQUSH CORP.   6611 N. CAMPBELL AVE.  60645  TOYOTA   CAMRY   \n",
       "4  T5971  5971  EUNIFFORD INC.     3351 W. ADDISON ST.  60618  TOYOTA  SIENNA   \n",
       "\n",
       "   year fuel_type       owner_veh  \n",
       "0  2011    HYBRID  AGEAN TAXI LLC  \n",
       "1  2014  GASOLINE    MANGIB CORP.  \n",
       "2  2015  GASOLINE   FUNRIDE, INC.  \n",
       "3  2014    HYBRID    ALQUSH CORP.  \n",
       "4  2015  GASOLINE  EUNIFFORD INC.  "
      ]
     },
     "execution_count": 4,
     "metadata": {},
     "output_type": "execute_result"
    }
   ],
   "source": [
    "taxi_own_veh = taxi_owners.merge(taxi_veh, on = 'vid', suffixes = ('_own','_veh'))\n",
    "taxi_own_veh.head()"
   ]
  },
  {
   "cell_type": "markdown",
   "metadata": {},
   "source": [
    "Find the most popular `fuel_type`"
   ]
  },
  {
   "cell_type": "code",
   "execution_count": 5,
   "metadata": {},
   "outputs": [
    {
     "data": {
      "text/plain": [
       "HYBRID                    2792\n",
       "GASOLINE                   611\n",
       "FLEX FUEL                   89\n",
       "COMPRESSED NATURAL GAS      27\n",
       "Name: fuel_type, dtype: int64"
      ]
     },
     "execution_count": 5,
     "metadata": {},
     "output_type": "execute_result"
    }
   ],
   "source": [
    "taxi_own_veh['fuel_type'].value_counts()"
   ]
  },
  {
   "cell_type": "markdown",
   "metadata": {},
   "source": [
    "#### Dataset 2"
   ]
  },
  {
   "cell_type": "code",
   "execution_count": 6,
   "metadata": {},
   "outputs": [],
   "source": [
    "census = pd.read_pickle('census.p')\n",
    "wards = pd.read_pickle('ward.p')"
   ]
  },
  {
   "cell_type": "markdown",
   "metadata": {},
   "source": [
    "#### Join\n",
    "\n",
    "Merge the `wards` and `census` tables on the `ward` column"
   ]
  },
  {
   "cell_type": "code",
   "execution_count": 7,
   "metadata": {},
   "outputs": [
    {
     "data": {
      "text/html": [
       "<div>\n",
       "<style scoped>\n",
       "    .dataframe tbody tr th:only-of-type {\n",
       "        vertical-align: middle;\n",
       "    }\n",
       "\n",
       "    .dataframe tbody tr th {\n",
       "        vertical-align: top;\n",
       "    }\n",
       "\n",
       "    .dataframe thead th {\n",
       "        text-align: right;\n",
       "    }\n",
       "</style>\n",
       "<table border=\"1\" class=\"dataframe\">\n",
       "  <thead>\n",
       "    <tr style=\"text-align: right;\">\n",
       "      <th></th>\n",
       "      <th>ward</th>\n",
       "      <th>alderman</th>\n",
       "      <th>address_x</th>\n",
       "      <th>zip_x</th>\n",
       "      <th>pop_2000</th>\n",
       "      <th>pop_2010</th>\n",
       "      <th>change</th>\n",
       "      <th>address_y</th>\n",
       "      <th>zip_y</th>\n",
       "    </tr>\n",
       "  </thead>\n",
       "  <tbody>\n",
       "    <tr>\n",
       "      <th>0</th>\n",
       "      <td>1</td>\n",
       "      <td>Proco \"Joe\" Moreno</td>\n",
       "      <td>2058 NORTH WESTERN AVENUE</td>\n",
       "      <td>60647</td>\n",
       "      <td>52951</td>\n",
       "      <td>56149</td>\n",
       "      <td>6%</td>\n",
       "      <td>2765 WEST SAINT MARY STREET</td>\n",
       "      <td>60647</td>\n",
       "    </tr>\n",
       "    <tr>\n",
       "      <th>1</th>\n",
       "      <td>2</td>\n",
       "      <td>Brian Hopkins</td>\n",
       "      <td>1400 NORTH  ASHLAND AVENUE</td>\n",
       "      <td>60622</td>\n",
       "      <td>54361</td>\n",
       "      <td>55805</td>\n",
       "      <td>3%</td>\n",
       "      <td>WM WASTE MANAGEMENT 1500</td>\n",
       "      <td>60622</td>\n",
       "    </tr>\n",
       "    <tr>\n",
       "      <th>2</th>\n",
       "      <td>3</td>\n",
       "      <td>Pat Dowell</td>\n",
       "      <td>5046 SOUTH STATE STREET</td>\n",
       "      <td>60609</td>\n",
       "      <td>40385</td>\n",
       "      <td>53039</td>\n",
       "      <td>31%</td>\n",
       "      <td>17 EAST 38TH STREET</td>\n",
       "      <td>60653</td>\n",
       "    </tr>\n",
       "    <tr>\n",
       "      <th>3</th>\n",
       "      <td>4</td>\n",
       "      <td>William D. Burns</td>\n",
       "      <td>435 EAST 35TH STREET, 1ST FLOOR</td>\n",
       "      <td>60616</td>\n",
       "      <td>51953</td>\n",
       "      <td>54589</td>\n",
       "      <td>5%</td>\n",
       "      <td>31ST ST HARBOR BUILDING LAKEFRONT TRAIL</td>\n",
       "      <td>60653</td>\n",
       "    </tr>\n",
       "    <tr>\n",
       "      <th>4</th>\n",
       "      <td>5</td>\n",
       "      <td>Leslie A. Hairston</td>\n",
       "      <td>2325 EAST 71ST STREET</td>\n",
       "      <td>60649</td>\n",
       "      <td>55302</td>\n",
       "      <td>51455</td>\n",
       "      <td>-7%</td>\n",
       "      <td>JACKSON PARK LAGOON SOUTH CORNELL DRIVE</td>\n",
       "      <td>60637</td>\n",
       "    </tr>\n",
       "  </tbody>\n",
       "</table>\n",
       "</div>"
      ],
      "text/plain": [
       "  ward            alderman                        address_x  zip_x  pop_2000  \\\n",
       "0    1  Proco \"Joe\" Moreno        2058 NORTH WESTERN AVENUE  60647     52951   \n",
       "1    2       Brian Hopkins       1400 NORTH  ASHLAND AVENUE  60622     54361   \n",
       "2    3          Pat Dowell          5046 SOUTH STATE STREET  60609     40385   \n",
       "3    4    William D. Burns  435 EAST 35TH STREET, 1ST FLOOR  60616     51953   \n",
       "4    5  Leslie A. Hairston            2325 EAST 71ST STREET  60649     55302   \n",
       "\n",
       "   pop_2010 change                                address_y  zip_y  \n",
       "0     56149     6%              2765 WEST SAINT MARY STREET  60647  \n",
       "1     55805     3%                 WM WASTE MANAGEMENT 1500  60622  \n",
       "2     53039    31%                      17 EAST 38TH STREET  60653  \n",
       "3     54589     5%  31ST ST HARBOR BUILDING LAKEFRONT TRAIL  60653  \n",
       "4     51455    -7%  JACKSON PARK LAGOON SOUTH CORNELL DRIVE  60637  "
      ]
     },
     "execution_count": 7,
     "metadata": {},
     "output_type": "execute_result"
    }
   ],
   "source": [
    "wards_census = wards.merge(census, on = 'ward')\n",
    "wards_census.head()"
   ]
  },
  {
   "cell_type": "markdown",
   "metadata": {},
   "source": [
    "#### Dataset 3"
   ]
  },
  {
   "cell_type": "code",
   "execution_count": 8,
   "metadata": {},
   "outputs": [],
   "source": [
    "licenses = pd.read_pickle('licenses.p')\n",
    "biz_owners = pd.read_pickle('business_owners.p')"
   ]
  },
  {
   "cell_type": "markdown",
   "metadata": {},
   "source": [
    "#### Join\n",
    "\n",
    "Merge the `licenses` and `biz_owners` table on `account`"
   ]
  },
  {
   "cell_type": "code",
   "execution_count": 9,
   "metadata": {},
   "outputs": [],
   "source": [
    "licenses_owners = licenses.merge(biz_owners, on = 'account')"
   ]
  },
  {
   "cell_type": "markdown",
   "metadata": {},
   "source": [
    "Group the results by `title` then count the number of `accounts`. Sort the `counted_df` in desending order"
   ]
  },
  {
   "cell_type": "code",
   "execution_count": 10,
   "metadata": {},
   "outputs": [
    {
     "data": {
      "text/html": [
       "<div>\n",
       "<style scoped>\n",
       "    .dataframe tbody tr th:only-of-type {\n",
       "        vertical-align: middle;\n",
       "    }\n",
       "\n",
       "    .dataframe tbody tr th {\n",
       "        vertical-align: top;\n",
       "    }\n",
       "\n",
       "    .dataframe thead th {\n",
       "        text-align: right;\n",
       "    }\n",
       "</style>\n",
       "<table border=\"1\" class=\"dataframe\">\n",
       "  <thead>\n",
       "    <tr style=\"text-align: right;\">\n",
       "      <th></th>\n",
       "      <th>account</th>\n",
       "    </tr>\n",
       "    <tr>\n",
       "      <th>title</th>\n",
       "      <th></th>\n",
       "    </tr>\n",
       "  </thead>\n",
       "  <tbody>\n",
       "    <tr>\n",
       "      <th>PRESIDENT</th>\n",
       "      <td>6259</td>\n",
       "    </tr>\n",
       "    <tr>\n",
       "      <th>SECRETARY</th>\n",
       "      <td>5205</td>\n",
       "    </tr>\n",
       "    <tr>\n",
       "      <th>SOLE PROPRIETOR</th>\n",
       "      <td>1658</td>\n",
       "    </tr>\n",
       "    <tr>\n",
       "      <th>OTHER</th>\n",
       "      <td>1200</td>\n",
       "    </tr>\n",
       "    <tr>\n",
       "      <th>VICE PRESIDENT</th>\n",
       "      <td>970</td>\n",
       "    </tr>\n",
       "  </tbody>\n",
       "</table>\n",
       "</div>"
      ],
      "text/plain": [
       "                 account\n",
       "title                   \n",
       "PRESIDENT           6259\n",
       "SECRETARY           5205\n",
       "SOLE PROPRIETOR     1658\n",
       "OTHER               1200\n",
       "VICE PRESIDENT       970"
      ]
     },
     "execution_count": 10,
     "metadata": {},
     "output_type": "execute_result"
    }
   ],
   "source": [
    "counted_df = licenses_owners.groupby('title').agg({'account':'count'})\n",
    "sorted_df = counted_df.sort_values('account', ascending = False)\n",
    "\n",
    "sorted_df.head()"
   ]
  },
  {
   "cell_type": "markdown",
   "metadata": {},
   "source": [
    "#### Dataset 4"
   ]
  },
  {
   "cell_type": "code",
   "execution_count": 11,
   "metadata": {},
   "outputs": [],
   "source": [
    "cal = pd.read_pickle('cta_calendar.p')\n",
    "ridership = pd.read_pickle('cta_ridership.p')\n",
    "stations = pd.read_pickle('stations.p')"
   ]
  },
  {
   "cell_type": "markdown",
   "metadata": {},
   "source": [
    "#### Join\n",
    "\n",
    "Merge the `ridership` and `cal` tables"
   ]
  },
  {
   "cell_type": "code",
   "execution_count": 12,
   "metadata": {},
   "outputs": [
    {
     "data": {
      "text/html": [
       "<div>\n",
       "<style scoped>\n",
       "    .dataframe tbody tr th:only-of-type {\n",
       "        vertical-align: middle;\n",
       "    }\n",
       "\n",
       "    .dataframe tbody tr th {\n",
       "        vertical-align: top;\n",
       "    }\n",
       "\n",
       "    .dataframe thead th {\n",
       "        text-align: right;\n",
       "    }\n",
       "</style>\n",
       "<table border=\"1\" class=\"dataframe\">\n",
       "  <thead>\n",
       "    <tr style=\"text-align: right;\">\n",
       "      <th></th>\n",
       "      <th>station_id</th>\n",
       "      <th>year</th>\n",
       "      <th>month</th>\n",
       "      <th>day</th>\n",
       "      <th>rides</th>\n",
       "      <th>day_type</th>\n",
       "    </tr>\n",
       "  </thead>\n",
       "  <tbody>\n",
       "    <tr>\n",
       "      <th>0</th>\n",
       "      <td>40010</td>\n",
       "      <td>2019</td>\n",
       "      <td>1</td>\n",
       "      <td>1</td>\n",
       "      <td>576</td>\n",
       "      <td>Sunday/Holiday</td>\n",
       "    </tr>\n",
       "    <tr>\n",
       "      <th>1</th>\n",
       "      <td>40080</td>\n",
       "      <td>2019</td>\n",
       "      <td>1</td>\n",
       "      <td>1</td>\n",
       "      <td>1839</td>\n",
       "      <td>Sunday/Holiday</td>\n",
       "    </tr>\n",
       "    <tr>\n",
       "      <th>2</th>\n",
       "      <td>40770</td>\n",
       "      <td>2019</td>\n",
       "      <td>1</td>\n",
       "      <td>1</td>\n",
       "      <td>2724</td>\n",
       "      <td>Sunday/Holiday</td>\n",
       "    </tr>\n",
       "    <tr>\n",
       "      <th>3</th>\n",
       "      <td>40120</td>\n",
       "      <td>2019</td>\n",
       "      <td>1</td>\n",
       "      <td>1</td>\n",
       "      <td>754</td>\n",
       "      <td>Sunday/Holiday</td>\n",
       "    </tr>\n",
       "    <tr>\n",
       "      <th>4</th>\n",
       "      <td>40540</td>\n",
       "      <td>2019</td>\n",
       "      <td>1</td>\n",
       "      <td>1</td>\n",
       "      <td>2175</td>\n",
       "      <td>Sunday/Holiday</td>\n",
       "    </tr>\n",
       "  </tbody>\n",
       "</table>\n",
       "</div>"
      ],
      "text/plain": [
       "  station_id  year  month  day  rides        day_type\n",
       "0      40010  2019      1    1    576  Sunday/Holiday\n",
       "1      40080  2019      1    1   1839  Sunday/Holiday\n",
       "2      40770  2019      1    1   2724  Sunday/Holiday\n",
       "3      40120  2019      1    1    754  Sunday/Holiday\n",
       "4      40540  2019      1    1   2175  Sunday/Holiday"
      ]
     },
     "execution_count": 12,
     "metadata": {},
     "output_type": "execute_result"
    }
   ],
   "source": [
    "ridership_cal = ridership.merge(cal, on = ['year','month','day'])\n",
    "ridership_cal.head()"
   ]
  },
  {
   "cell_type": "markdown",
   "metadata": {},
   "source": [
    "Merge the `ridership`, `cal`, and `stations` tables"
   ]
  },
  {
   "cell_type": "code",
   "execution_count": 13,
   "metadata": {},
   "outputs": [
    {
     "data": {
      "text/html": [
       "<div>\n",
       "<style scoped>\n",
       "    .dataframe tbody tr th:only-of-type {\n",
       "        vertical-align: middle;\n",
       "    }\n",
       "\n",
       "    .dataframe tbody tr th {\n",
       "        vertical-align: top;\n",
       "    }\n",
       "\n",
       "    .dataframe thead th {\n",
       "        text-align: right;\n",
       "    }\n",
       "</style>\n",
       "<table border=\"1\" class=\"dataframe\">\n",
       "  <thead>\n",
       "    <tr style=\"text-align: right;\">\n",
       "      <th></th>\n",
       "      <th>station_id</th>\n",
       "      <th>year</th>\n",
       "      <th>month</th>\n",
       "      <th>day</th>\n",
       "      <th>rides</th>\n",
       "      <th>day_type</th>\n",
       "      <th>station_name</th>\n",
       "      <th>location</th>\n",
       "    </tr>\n",
       "  </thead>\n",
       "  <tbody>\n",
       "    <tr>\n",
       "      <th>0</th>\n",
       "      <td>40010</td>\n",
       "      <td>2019</td>\n",
       "      <td>1</td>\n",
       "      <td>1</td>\n",
       "      <td>576</td>\n",
       "      <td>Sunday/Holiday</td>\n",
       "      <td>Austin-Forest Park</td>\n",
       "      <td>(41.870851, -87.776812)</td>\n",
       "    </tr>\n",
       "    <tr>\n",
       "      <th>1</th>\n",
       "      <td>40010</td>\n",
       "      <td>2019</td>\n",
       "      <td>1</td>\n",
       "      <td>2</td>\n",
       "      <td>1457</td>\n",
       "      <td>Weekday</td>\n",
       "      <td>Austin-Forest Park</td>\n",
       "      <td>(41.870851, -87.776812)</td>\n",
       "    </tr>\n",
       "    <tr>\n",
       "      <th>2</th>\n",
       "      <td>40010</td>\n",
       "      <td>2019</td>\n",
       "      <td>1</td>\n",
       "      <td>3</td>\n",
       "      <td>1543</td>\n",
       "      <td>Weekday</td>\n",
       "      <td>Austin-Forest Park</td>\n",
       "      <td>(41.870851, -87.776812)</td>\n",
       "    </tr>\n",
       "    <tr>\n",
       "      <th>3</th>\n",
       "      <td>40010</td>\n",
       "      <td>2019</td>\n",
       "      <td>1</td>\n",
       "      <td>4</td>\n",
       "      <td>1621</td>\n",
       "      <td>Weekday</td>\n",
       "      <td>Austin-Forest Park</td>\n",
       "      <td>(41.870851, -87.776812)</td>\n",
       "    </tr>\n",
       "    <tr>\n",
       "      <th>4</th>\n",
       "      <td>40010</td>\n",
       "      <td>2019</td>\n",
       "      <td>1</td>\n",
       "      <td>5</td>\n",
       "      <td>719</td>\n",
       "      <td>Saturday</td>\n",
       "      <td>Austin-Forest Park</td>\n",
       "      <td>(41.870851, -87.776812)</td>\n",
       "    </tr>\n",
       "  </tbody>\n",
       "</table>\n",
       "</div>"
      ],
      "text/plain": [
       "  station_id  year  month  day  rides        day_type        station_name  \\\n",
       "0      40010  2019      1    1    576  Sunday/Holiday  Austin-Forest Park   \n",
       "1      40010  2019      1    2   1457         Weekday  Austin-Forest Park   \n",
       "2      40010  2019      1    3   1543         Weekday  Austin-Forest Park   \n",
       "3      40010  2019      1    4   1621         Weekday  Austin-Forest Park   \n",
       "4      40010  2019      1    5    719        Saturday  Austin-Forest Park   \n",
       "\n",
       "                  location  \n",
       "0  (41.870851, -87.776812)  \n",
       "1  (41.870851, -87.776812)  \n",
       "2  (41.870851, -87.776812)  \n",
       "3  (41.870851, -87.776812)  \n",
       "4  (41.870851, -87.776812)  "
      ]
     },
     "execution_count": 13,
     "metadata": {},
     "output_type": "execute_result"
    }
   ],
   "source": [
    "ridership_cal_stations = ridership.merge(cal, on = ['year','month','day']) \\\n",
    "            \t\t\t\t.merge(stations, on = ['station_id'])\n",
    "ridership_cal_stations.head()"
   ]
  },
  {
   "cell_type": "markdown",
   "metadata": {},
   "source": [
    "Create a filter to filter `ridership_cal_stations` then use `.loc` and the filter to select for `rides`"
   ]
  },
  {
   "cell_type": "code",
   "execution_count": 14,
   "metadata": {},
   "outputs": [
    {
     "data": {
      "text/plain": [
       "140005"
      ]
     },
     "execution_count": 14,
     "metadata": {},
     "output_type": "execute_result"
    }
   ],
   "source": [
    "filter_criteria = ((ridership_cal_stations['month'] == 7) \n",
    "                   & (ridership_cal_stations['day_type'] == 'Weekday') \n",
    "                   & (ridership_cal_stations['station_name'] == 'Wilson'))\n",
    "\n",
    "ridership_cal_stations.loc[filter_criteria, 'rides'].sum()"
   ]
  },
  {
   "cell_type": "markdown",
   "metadata": {},
   "source": [
    "#### Dataset 5"
   ]
  },
  {
   "cell_type": "code",
   "execution_count": 15,
   "metadata": {},
   "outputs": [],
   "source": [
    "zip_demo = pd.read_pickle('zip_demo.p')"
   ]
  },
  {
   "cell_type": "markdown",
   "metadata": {},
   "source": [
    "#### Join\n",
    "\n",
    "Merge `licenses` and `zip_demo`, on `zip`; and merge the `wards` on `ward`. Print the results by `alderman` and show median `income`"
   ]
  },
  {
   "cell_type": "code",
   "execution_count": 16,
   "metadata": {},
   "outputs": [
    {
     "data": {
      "text/html": [
       "<div>\n",
       "<style scoped>\n",
       "    .dataframe tbody tr th:only-of-type {\n",
       "        vertical-align: middle;\n",
       "    }\n",
       "\n",
       "    .dataframe tbody tr th {\n",
       "        vertical-align: top;\n",
       "    }\n",
       "\n",
       "    .dataframe thead th {\n",
       "        text-align: right;\n",
       "    }\n",
       "</style>\n",
       "<table border=\"1\" class=\"dataframe\">\n",
       "  <thead>\n",
       "    <tr style=\"text-align: right;\">\n",
       "      <th></th>\n",
       "      <th>income</th>\n",
       "    </tr>\n",
       "    <tr>\n",
       "      <th>alderman</th>\n",
       "      <th></th>\n",
       "    </tr>\n",
       "  </thead>\n",
       "  <tbody>\n",
       "    <tr>\n",
       "      <th>Ameya Pawar</th>\n",
       "      <td>66246.0</td>\n",
       "    </tr>\n",
       "    <tr>\n",
       "      <th>Anthony A. Beale</th>\n",
       "      <td>38206.0</td>\n",
       "    </tr>\n",
       "    <tr>\n",
       "      <th>Anthony V. Napolitano</th>\n",
       "      <td>82226.0</td>\n",
       "    </tr>\n",
       "    <tr>\n",
       "      <th>Ariel E. Reyboras</th>\n",
       "      <td>41307.0</td>\n",
       "    </tr>\n",
       "    <tr>\n",
       "      <th>Brendan Reilly</th>\n",
       "      <td>110215.0</td>\n",
       "    </tr>\n",
       "  </tbody>\n",
       "</table>\n",
       "</div>"
      ],
      "text/plain": [
       "                         income\n",
       "alderman                       \n",
       "Ameya Pawar             66246.0\n",
       "Anthony A. Beale        38206.0\n",
       "Anthony V. Napolitano   82226.0\n",
       "Ariel E. Reyboras       41307.0\n",
       "Brendan Reilly         110215.0"
      ]
     },
     "execution_count": 16,
     "metadata": {},
     "output_type": "execute_result"
    }
   ],
   "source": [
    "licenses_zip_ward = licenses.merge(zip_demo, on = 'zip') \\\n",
    "            \t\t\t.merge(wards, on = 'ward')\n",
    "\n",
    "licenses_zip_ward.groupby('alderman').agg({'income':'median'}).head()"
   ]
  },
  {
   "cell_type": "markdown",
   "metadata": {},
   "source": [
    "#### Dataset 6"
   ]
  },
  {
   "cell_type": "code",
   "execution_count": 17,
   "metadata": {},
   "outputs": [],
   "source": [
    "land_use = pd.read_pickle('land_use.p')"
   ]
  },
  {
   "cell_type": "markdown",
   "metadata": {},
   "source": [
    "#### Join\n",
    "\n",
    "Merge `land_use` and `census` and merge result with `licenses` including suffixes"
   ]
  },
  {
   "cell_type": "code",
   "execution_count": 18,
   "metadata": {},
   "outputs": [],
   "source": [
    "land_cen_lic = land_use.merge(census, on = 'ward') \\\n",
    ".merge(licenses, on = 'ward', suffixes = ('_cen','_lic'))"
   ]
  },
  {
   "cell_type": "markdown",
   "metadata": {},
   "source": [
    "Group by `ward`, `pop_2010`, and `vacant`, then count the number of `accounts`"
   ]
  },
  {
   "cell_type": "code",
   "execution_count": 19,
   "metadata": {},
   "outputs": [],
   "source": [
    "pop_vac_lic = land_cen_lic.groupby(['ward','pop_2010','vacant'], \n",
    "                                   as_index = False).agg({'account':'count'})"
   ]
  },
  {
   "cell_type": "markdown",
   "metadata": {},
   "source": [
    "Sort `pop_vac_lic` and print the results"
   ]
  },
  {
   "cell_type": "code",
   "execution_count": 20,
   "metadata": {},
   "outputs": [
    {
     "data": {
      "text/html": [
       "<div>\n",
       "<style scoped>\n",
       "    .dataframe tbody tr th:only-of-type {\n",
       "        vertical-align: middle;\n",
       "    }\n",
       "\n",
       "    .dataframe tbody tr th {\n",
       "        vertical-align: top;\n",
       "    }\n",
       "\n",
       "    .dataframe thead th {\n",
       "        text-align: right;\n",
       "    }\n",
       "</style>\n",
       "<table border=\"1\" class=\"dataframe\">\n",
       "  <thead>\n",
       "    <tr style=\"text-align: right;\">\n",
       "      <th></th>\n",
       "      <th>ward</th>\n",
       "      <th>pop_2010</th>\n",
       "      <th>vacant</th>\n",
       "      <th>account</th>\n",
       "    </tr>\n",
       "  </thead>\n",
       "  <tbody>\n",
       "    <tr>\n",
       "      <th>47</th>\n",
       "      <td>7</td>\n",
       "      <td>51581</td>\n",
       "      <td>19</td>\n",
       "      <td>80</td>\n",
       "    </tr>\n",
       "    <tr>\n",
       "      <th>12</th>\n",
       "      <td>20</td>\n",
       "      <td>52372</td>\n",
       "      <td>15</td>\n",
       "      <td>123</td>\n",
       "    </tr>\n",
       "    <tr>\n",
       "      <th>1</th>\n",
       "      <td>10</td>\n",
       "      <td>51535</td>\n",
       "      <td>14</td>\n",
       "      <td>130</td>\n",
       "    </tr>\n",
       "    <tr>\n",
       "      <th>16</th>\n",
       "      <td>24</td>\n",
       "      <td>54909</td>\n",
       "      <td>13</td>\n",
       "      <td>98</td>\n",
       "    </tr>\n",
       "    <tr>\n",
       "      <th>7</th>\n",
       "      <td>16</td>\n",
       "      <td>51954</td>\n",
       "      <td>13</td>\n",
       "      <td>156</td>\n",
       "    </tr>\n",
       "  </tbody>\n",
       "</table>\n",
       "</div>"
      ],
      "text/plain": [
       "   ward  pop_2010  vacant  account\n",
       "47    7     51581      19       80\n",
       "12   20     52372      15      123\n",
       "1    10     51535      14      130\n",
       "16   24     54909      13       98\n",
       "7    16     51954      13      156"
      ]
     },
     "execution_count": 20,
     "metadata": {},
     "output_type": "execute_result"
    }
   ],
   "source": [
    "sorted_pop_vac_lic = pop_vac_lic.sort_values(['vacant','account','pop_2010'], \n",
    "                                             ascending = (False,True,True))\n",
    "\n",
    "sorted_pop_vac_lic.head()"
   ]
  },
  {
   "cell_type": "markdown",
   "metadata": {},
   "source": [
    "### II. Left Join"
   ]
  },
  {
   "cell_type": "markdown",
   "metadata": {},
   "source": [
    "#### Dataset"
   ]
  },
  {
   "cell_type": "code",
   "execution_count": 21,
   "metadata": {},
   "outputs": [],
   "source": [
    "movies_1 = pd.read_pickle('movies.p')\n",
    "financials = pd.read_pickle('financials.p')"
   ]
  },
  {
   "cell_type": "markdown",
   "metadata": {},
   "source": [
    "#### Join\n",
    "\n",
    "Merge `movies` and `financials` with a left join"
   ]
  },
  {
   "cell_type": "code",
   "execution_count": 22,
   "metadata": {},
   "outputs": [],
   "source": [
    "movies_financials = movies_1.merge(financials, on = 'id', how = 'left')"
   ]
  },
  {
   "cell_type": "markdown",
   "metadata": {},
   "source": [
    "Count the number of rows in the `budget` column that are missing"
   ]
  },
  {
   "cell_type": "code",
   "execution_count": 23,
   "metadata": {},
   "outputs": [
    {
     "name": "stdout",
     "output_type": "stream",
     "text": [
      "1574\n"
     ]
    }
   ],
   "source": [
    "number_of_missing_fin = movies_financials['budget'].isnull().sum()\n",
    "print(number_of_missing_fin)"
   ]
  },
  {
   "cell_type": "markdown",
   "metadata": {},
   "source": [
    "### III. Right Join"
   ]
  },
  {
   "cell_type": "markdown",
   "metadata": {},
   "source": [
    "#### Dataset"
   ]
  },
  {
   "cell_type": "code",
   "execution_count": 24,
   "metadata": {},
   "outputs": [],
   "source": [
    "movies = pd.read_pickle('movie_to_genres.p')\n",
    "action_movies = movies[movies['genre'] == 'Action']\n",
    "scifi_movies = movies[movies['genre'] == 'Science Fiction']"
   ]
  },
  {
   "cell_type": "markdown",
   "metadata": {},
   "source": [
    "#### Join\n",
    "\n",
    "Merge `action_movies` to the `scifi_movies` with right join"
   ]
  },
  {
   "cell_type": "code",
   "execution_count": 25,
   "metadata": {},
   "outputs": [],
   "source": [
    "action_scifi = action_movies.merge(scifi_movies, on = 'movie_id', how = 'right',\n",
    "                                   suffixes = ('_act','_sci'))"
   ]
  },
  {
   "cell_type": "markdown",
   "metadata": {},
   "source": [
    "From `action_scifi`, select only the rows where the `genre_act` column is null"
   ]
  },
  {
   "cell_type": "code",
   "execution_count": 26,
   "metadata": {},
   "outputs": [],
   "source": [
    "scifi_only = action_scifi[action_scifi['genre_act'].isnull()]"
   ]
  },
  {
   "cell_type": "markdown",
   "metadata": {},
   "source": [
    "Merge the `movies` and `scifi_only` tables with an inner join"
   ]
  },
  {
   "cell_type": "code",
   "execution_count": 27,
   "metadata": {},
   "outputs": [
    {
     "name": "stdout",
     "output_type": "stream",
     "text": [
      "      id                         title  popularity release_date  movie_id  \\\n",
      "0  18841  The Lost Skeleton of Cadavra    1.680525   2001-09-12     18841   \n",
      "1  26672     The Thief and the Cobbler    2.439184   1993-09-23     26672   \n",
      "2  15301      Twilight Zone: The Movie   12.902975   1983-06-24     15301   \n",
      "3   8452                   The 6th Day   18.447479   2000-11-17      8452   \n",
      "4   1649    Bill & Ted's Bogus Journey   11.349664   1991-07-19      1649   \n",
      "\n",
      "  genre_act        genre_sci  \n",
      "0       NaN  Science Fiction  \n",
      "1       NaN  Science Fiction  \n",
      "2       NaN  Science Fiction  \n",
      "3       NaN  Science Fiction  \n",
      "4       NaN  Science Fiction  \n",
      "(258, 7)\n"
     ]
    }
   ],
   "source": [
    "movies_and_scifi_only = movies_1.merge(scifi_only, left_on = 'id', right_on = 'movie_id')\n",
    "\n",
    "print(movies_and_scifi_only.head())\n",
    "print(movies_and_scifi_only.shape)"
   ]
  },
  {
   "cell_type": "markdown",
   "metadata": {},
   "source": [
    "Create `pop_movies` with the 10 most popular movies"
   ]
  },
  {
   "cell_type": "code",
   "execution_count": 28,
   "metadata": {},
   "outputs": [],
   "source": [
    "pop_movies = movies_1.sort_values('popularity', ascending = False).head(10)"
   ]
  },
  {
   "cell_type": "markdown",
   "metadata": {},
   "source": [
    "Use right join to merge the `movie_to_genres` and `pop_movies` tables. Then, count the number of `genres` and plot a bar chart of the `genre_count`"
   ]
  },
  {
   "cell_type": "code",
   "execution_count": 29,
   "metadata": {},
   "outputs": [
    {
     "data": {
      "image/png": "[encoded data removed]",
      "text/plain": [
       "<Figure size 640x480 with 1 Axes>"
      ]
     },
     "metadata": {},
     "output_type": "display_data"
    }
   ],
   "source": [
    "genres_movies = movies.merge(pop_movies, how = 'right', \n",
    "                                      left_on = 'movie_id', \n",
    "                                      right_on = 'id')\n",
    "\n",
    "genre_count = genres_movies.groupby('genre').agg({'id':'count'})\n",
    "genre_count.plot(kind = 'bar')\n",
    "plt.show()"
   ]
  },
  {
   "cell_type": "markdown",
   "metadata": {},
   "source": [
    "### IV. Index Join"
   ]
  },
  {
   "cell_type": "markdown",
   "metadata": {},
   "source": [
    "#### Dataset"
   ]
  },
  {
   "cell_type": "code",
   "execution_count": 30,
   "metadata": {},
   "outputs": [],
   "source": [
    "rating = pd.read_pickle('ratings.p')"
   ]
  },
  {
   "cell_type": "markdown",
   "metadata": {},
   "source": [
    "#### Set index"
   ]
  },
  {
   "cell_type": "code",
   "execution_count": 31,
   "metadata": {},
   "outputs": [],
   "source": [
    "movies_1 = movies_1.set_index('id')\n",
    "rating = rating.set_index('id')"
   ]
  },
  {
   "cell_type": "markdown",
   "metadata": {},
   "source": [
    "#### Join\n",
    "\n",
    "Merge to the `movies` table the `ratings` table on the index"
   ]
  },
  {
   "cell_type": "code",
   "execution_count": 32,
   "metadata": {},
   "outputs": [
    {
     "data": {
      "text/html": [
       "<div>\n",
       "<style scoped>\n",
       "    .dataframe tbody tr th:only-of-type {\n",
       "        vertical-align: middle;\n",
       "    }\n",
       "\n",
       "    .dataframe tbody tr th {\n",
       "        vertical-align: top;\n",
       "    }\n",
       "\n",
       "    .dataframe thead th {\n",
       "        text-align: right;\n",
       "    }\n",
       "</style>\n",
       "<table border=\"1\" class=\"dataframe\">\n",
       "  <thead>\n",
       "    <tr style=\"text-align: right;\">\n",
       "      <th></th>\n",
       "      <th>title</th>\n",
       "      <th>popularity</th>\n",
       "      <th>release_date</th>\n",
       "      <th>vote_average</th>\n",
       "      <th>vote_count</th>\n",
       "    </tr>\n",
       "    <tr>\n",
       "      <th>id</th>\n",
       "      <th></th>\n",
       "      <th></th>\n",
       "      <th></th>\n",
       "      <th></th>\n",
       "      <th></th>\n",
       "    </tr>\n",
       "  </thead>\n",
       "  <tbody>\n",
       "    <tr>\n",
       "      <th>257</th>\n",
       "      <td>Oliver Twist</td>\n",
       "      <td>20.415572</td>\n",
       "      <td>2005-09-23</td>\n",
       "      <td>6.7</td>\n",
       "      <td>274.0</td>\n",
       "    </tr>\n",
       "    <tr>\n",
       "      <th>14290</th>\n",
       "      <td>Better Luck Tomorrow</td>\n",
       "      <td>3.877036</td>\n",
       "      <td>2002-01-12</td>\n",
       "      <td>6.5</td>\n",
       "      <td>27.0</td>\n",
       "    </tr>\n",
       "    <tr>\n",
       "      <th>38365</th>\n",
       "      <td>Grown Ups</td>\n",
       "      <td>38.864027</td>\n",
       "      <td>2010-06-24</td>\n",
       "      <td>6.0</td>\n",
       "      <td>1705.0</td>\n",
       "    </tr>\n",
       "    <tr>\n",
       "      <th>9672</th>\n",
       "      <td>Infamous</td>\n",
       "      <td>3.680896</td>\n",
       "      <td>2006-11-16</td>\n",
       "      <td>6.4</td>\n",
       "      <td>60.0</td>\n",
       "    </tr>\n",
       "    <tr>\n",
       "      <th>12819</th>\n",
       "      <td>Alpha and Omega</td>\n",
       "      <td>12.300789</td>\n",
       "      <td>2010-09-17</td>\n",
       "      <td>5.3</td>\n",
       "      <td>124.0</td>\n",
       "    </tr>\n",
       "  </tbody>\n",
       "</table>\n",
       "</div>"
      ],
      "text/plain": [
       "                      title  popularity release_date  vote_average  vote_count\n",
       "id                                                                            \n",
       "257            Oliver Twist   20.415572   2005-09-23           6.7       274.0\n",
       "14290  Better Luck Tomorrow    3.877036   2002-01-12           6.5        27.0\n",
       "38365             Grown Ups   38.864027   2010-06-24           6.0      1705.0\n",
       "9672               Infamous    3.680896   2006-11-16           6.4        60.0\n",
       "12819       Alpha and Omega   12.300789   2010-09-17           5.3       124.0"
      ]
     },
     "execution_count": 32,
     "metadata": {},
     "output_type": "execute_result"
    }
   ],
   "source": [
    "movies_ratings = movies_1.merge(rating, on = 'id')\n",
    "movies_ratings.head()"
   ]
  },
  {
   "cell_type": "markdown",
   "metadata": {},
   "source": [
    "#### Dataset 2"
   ]
  },
  {
   "cell_type": "code",
   "execution_count": 33,
   "metadata": {},
   "outputs": [],
   "source": [
    "sequels = pd.read_pickle('sequels.p')"
   ]
  },
  {
   "cell_type": "markdown",
   "metadata": {},
   "source": [
    "#### Set index"
   ]
  },
  {
   "cell_type": "code",
   "execution_count": 34,
   "metadata": {},
   "outputs": [],
   "source": [
    "financials = financials.set_index('id')\n",
    "sequels = sequels.set_index('id')"
   ]
  },
  {
   "cell_type": "markdown",
   "metadata": {},
   "source": [
    "#### Join\n",
    "\n",
    "Merge `sequels` and `financials` on index `id`"
   ]
  },
  {
   "cell_type": "code",
   "execution_count": 35,
   "metadata": {},
   "outputs": [],
   "source": [
    "sequels_fin = sequels.merge(financials, on = 'id', how = 'left')"
   ]
  },
  {
   "cell_type": "markdown",
   "metadata": {},
   "source": [
    "Self merge with suffixes as inner join with left on `sequel` and right on `id`. Add calculation to subtract `revenue_org` from `revenue_seq` and select the `title_org`, `title_seq`, and `diff` "
   ]
  },
  {
   "cell_type": "code",
   "execution_count": 36,
   "metadata": {},
   "outputs": [
    {
     "data": {
      "text/html": [
       "<div>\n",
       "<style scoped>\n",
       "    .dataframe tbody tr th:only-of-type {\n",
       "        vertical-align: middle;\n",
       "    }\n",
       "\n",
       "    .dataframe tbody tr th {\n",
       "        vertical-align: top;\n",
       "    }\n",
       "\n",
       "    .dataframe thead th {\n",
       "        text-align: right;\n",
       "    }\n",
       "</style>\n",
       "<table border=\"1\" class=\"dataframe\">\n",
       "  <thead>\n",
       "    <tr style=\"text-align: right;\">\n",
       "      <th></th>\n",
       "      <th>title_org</th>\n",
       "      <th>title_seq</th>\n",
       "      <th>diff</th>\n",
       "    </tr>\n",
       "    <tr>\n",
       "      <th>id</th>\n",
       "      <th></th>\n",
       "      <th></th>\n",
       "      <th></th>\n",
       "    </tr>\n",
       "  </thead>\n",
       "  <tbody>\n",
       "    <tr>\n",
       "      <th>331</th>\n",
       "      <td>Jurassic Park III</td>\n",
       "      <td>Jurassic World</td>\n",
       "      <td>1.144748e+09</td>\n",
       "    </tr>\n",
       "    <tr>\n",
       "      <th>272</th>\n",
       "      <td>Batman Begins</td>\n",
       "      <td>The Dark Knight</td>\n",
       "      <td>6.303398e+08</td>\n",
       "    </tr>\n",
       "    <tr>\n",
       "      <th>10138</th>\n",
       "      <td>Iron Man 2</td>\n",
       "      <td>Iron Man 3</td>\n",
       "      <td>5.915067e+08</td>\n",
       "    </tr>\n",
       "    <tr>\n",
       "      <th>863</th>\n",
       "      <td>Toy Story 2</td>\n",
       "      <td>Toy Story 3</td>\n",
       "      <td>5.696028e+08</td>\n",
       "    </tr>\n",
       "    <tr>\n",
       "      <th>10764</th>\n",
       "      <td>Quantum of Solace</td>\n",
       "      <td>Skyfall</td>\n",
       "      <td>5.224703e+08</td>\n",
       "    </tr>\n",
       "  </tbody>\n",
       "</table>\n",
       "</div>"
      ],
      "text/plain": [
       "               title_org        title_seq          diff\n",
       "id                                                     \n",
       "331    Jurassic Park III   Jurassic World  1.144748e+09\n",
       "272        Batman Begins  The Dark Knight  6.303398e+08\n",
       "10138         Iron Man 2       Iron Man 3  5.915067e+08\n",
       "863          Toy Story 2      Toy Story 3  5.696028e+08\n",
       "10764  Quantum of Solace          Skyfall  5.224703e+08"
      ]
     },
     "execution_count": 36,
     "metadata": {},
     "output_type": "execute_result"
    }
   ],
   "source": [
    "orig_seq = sequels_fin.merge(sequels_fin, how = 'inner', left_on = 'sequel', \n",
    "                             right_on = 'id', right_index = True,\n",
    "                             suffixes = ('_org','_seq'))\n",
    "\n",
    "orig_seq['diff'] = orig_seq['revenue_seq'] - orig_seq['revenue_org']\n",
    "titles_diff = orig_seq[['title_org','title_seq','diff']]\n",
    "\n",
    "titles_diff.sort_values('diff', ascending=False).head()"
   ]
  }
 ],
 "metadata": {
  "kernelspec": {
   "display_name": "Python 3",
   "language": "python",
   "name": "python3"
  },
  "language_info": {
   "codemirror_mode": {
    "name": "ipython",
    "version": 3
   },
   "file_extension": ".py",
   "mimetype": "text/x-python",
   "name": "python",
   "nbconvert_exporter": "python",
   "pygments_lexer": "ipython3",
   "version": "3.10.8"
  }
 },
 "nbformat": 4,
 "nbformat_minor": 2
}
